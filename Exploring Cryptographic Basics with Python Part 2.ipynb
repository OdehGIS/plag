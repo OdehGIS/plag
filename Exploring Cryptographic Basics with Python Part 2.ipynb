{
 "cells": [
  {
   "cell_type": "markdown",
   "id": "721d0fb0",
   "metadata": {},
   "source": [
    "## Exploring Cryptographic Basics with Python Part 2"
   ]
  },
  {
   "cell_type": "markdown",
   "id": "8e795909",
   "metadata": {},
   "source": [
    "## Analyzing Playfair Cipher (Script 1)"
   ]
  },
  {
   "cell_type": "code",
   "execution_count": 49,
   "id": "60756ad3",
   "metadata": {},
   "outputs": [
    {
     "name": "stdout",
     "output_type": "stream",
     "text": [
      "Plaintext: ECPI is the best Decision I ever made\n",
      "Ciphertext: ODQHLQVFWDONURODLQLWQGYUKDPRGD\n",
      "Decrypted Text: ECPIISTHEBESTDECISIONIEVERMADE\n"
     ]
    }
   ],
   "source": [
    "def create_playfair_key(key):\n",
    "    key = key.replace(\"J\", \"I\")  # Replace 'J' with 'I' (standard Playfair convention)\n",
    "    key = \"\".join(dict.fromkeys(key))  # Remove duplicate characters\n",
    "    alphabet = \"ABCDEFGHIKLMNOPQRSTUVWXYZ\"\n",
    "    for char in key:\n",
    "        alphabet = alphabet.replace(char, \"\")\n",
    "    playfair_key = key + alphabet\n",
    "    return playfair_key\n",
    "\n",
    "def generate_playfair_matrix(key):\n",
    "    key = create_playfair_key(key)\n",
    "    playfair_matrix = [list(key[i:i + 5]) for i in range(0, len(key), 5)]\n",
    "    return playfair_matrix\n",
    "\n",
    "def find_char_positions(matrix, char):\n",
    "    for row in range(5):\n",
    "        for col in range(5):\n",
    "            if matrix[row][col] == char:\n",
    "                return row, col\n",
    "\n",
    "def playfair_encrypt(plain_text, key):\n",
    "    matrix = generate_playfair_matrix(key)\n",
    "    plain_text = plain_text.replace(\"J\", \"I\")  # Replace 'J' with 'I' (standard Playfair convention)\n",
    "    plain_text = plain_text.upper().replace(\" \", \"\")  # Convert to uppercase and remove spaces\n",
    "    encrypted_text = \"\"\n",
    "    \n",
    "    if len(plain_text) % 2 != 0:\n",
    "        plain_text += \"X\"  # Add an 'X' to make the text even-length\n",
    "    \n",
    "    for i in range(0, len(plain_text), 2):\n",
    "        char1, char2 = plain_text[i], plain_text[i + 1]\n",
    "        row1, col1 = find_char_positions(matrix, char1)\n",
    "        row2, col2 = find_char_positions(matrix, char2)\n",
    "        \n",
    "        if row1 == row2:  # Same row\n",
    "            encrypted_text += matrix[row1][(col1 + 1) % 5] + matrix[row2][(col2 + 1) % 5]\n",
    "        elif col1 == col2:  # Same column\n",
    "            encrypted_text += matrix[(row1 + 1) % 5][col1] + matrix[(row2 + 1) % 5][col2]\n",
    "        else:  # Form a rectangle\n",
    "            encrypted_text += matrix[row1][col2] + matrix[row2][col1]\n",
    "    \n",
    "    return encrypted_text\n",
    "\n",
    "def playfair_decrypt(ciphertext, key):\n",
    "    matrix = generate_playfair_matrix(key)\n",
    "    decrypted_text = \"\"\n",
    "    \n",
    "    for i in range(0, len(ciphertext), 2):\n",
    "        char1, char2 = ciphertext[i], ciphertext[i + 1]\n",
    "        row1, col1 = find_char_positions(matrix, char1)\n",
    "        row2, col2 = find_char_positions(matrix, char2)\n",
    "        \n",
    "        if row1 == row2:  # Same row\n",
    "            decrypted_text += matrix[row1][(col1 - 1) % 5] + matrix[row2][(col2 - 1) % 5]\n",
    "        elif col1 == col2:  # Same column\n",
    "            decrypted_text += matrix[(row1 - 1) % 5][col1] + matrix[(row2 - 1) % 5][col2]\n",
    "        else:  # Form a rectangle\n",
    "            decrypted_text += matrix[row1][col2] + matrix[row2][col1]\n",
    "    \n",
    "    return decrypted_text\n",
    "\n",
    "# Example usage:\n",
    "key = \"KEYWORD\"     #this is the key value             \n",
    "plaintext = \"ECPI is the best Decision I ever made\"  #this is the plaintext value\n",
    "ciphertext = playfair_encrypt(plaintext, key)\n",
    "decrypted_text = playfair_decrypt(ciphertext, key)\n",
    "\n",
    "print(\"Plaintext:\", plaintext)\n",
    "print(\"Ciphertext:\", ciphertext)\n",
    "print(\"Decrypted Text:\", decrypted_text)\n"
   ]
  },
  {
   "cell_type": "markdown",
   "id": "d13fdd87",
   "metadata": {},
   "source": [
    "## Analyzing ROT13 (Script 2)"
   ]
  },
  {
   "cell_type": "code",
   "execution_count": 57,
   "id": "74225dfc",
   "metadata": {},
   "outputs": [
    {
     "name": "stdout",
     "output_type": "stream",
     "text": [
      "We choose our attitude every morning when we awaken.\n",
      "jr pubbfr bhe nggvghqr rirel zbeavat jura jr njnxra.\n",
      "we choose our attitude every morning when we awaken.\n"
     ]
    }
   ],
   "source": [
    "key = 'abcdefghijklmnopqrstuvwxyz'             # Please Dont change the key in this lab.\n",
    "def enc_substitution(n, plaintext):\n",
    "    result = ''\n",
    "    for l in plaintext.lower():\n",
    "        try:\n",
    "            i = (key.index(l) + n) % 26\n",
    "            result += key[i]\n",
    "        except ValueError:\n",
    "            result += l\n",
    "    return result.lower()\n",
    "\n",
    "def dec_substitution(n, ciphertext):\n",
    "    result = ''\n",
    "    for l in ciphertext:\n",
    "        try:\n",
    "            i = (key.index(l) - n) % 26\n",
    "            result += key[i]\n",
    "        except ValueError:\n",
    "            result += l\n",
    "    return result\n",
    "\n",
    "origtext = 'We choose our attitude every morning when we awaken.'  #this is the origtext value\n",
    "ciphertext = enc_substitution(13, origtext)\n",
    "plaintext = dec_substitution(13, ciphertext)\n",
    "print(origtext)\n",
    "print(ciphertext)\n",
    "print(plaintext)\n"
   ]
  },
  {
   "cell_type": "markdown",
   "id": "215e6f6c",
   "metadata": {},
   "source": [
    "## Examining Column Transposition (Script 3)"
   ]
  },
  {
   "cell_type": "code",
   "execution_count": 60,
   "id": "82c7d1b6",
   "metadata": {},
   "outputs": [
    {
     "name": "stdout",
     "output_type": "stream",
     "text": [
      "Ciphertext: EHLLO CLOUMNARC IPHER\n",
      "Decrypted Text: HELLO COLUMNAR CIPHER\n"
     ]
    }
   ],
   "source": [
    "def encrypt(plain_text, key):\n",
    "    key_order = sorted(range(len(key)), key=lambda k: key[k])\n",
    "    num_columns = len(key)\n",
    "    num_rows = -(-len(plain_text) // num_columns)  # Ceiling division\n",
    "\n",
    "    # Create an empty grid\n",
    "    grid = [[' ' for _ in range(num_columns)] for _ in range(num_rows)]\n",
    "\n",
    "    # Fill in the grid with the plaintext\n",
    "    for i, char in enumerate(plain_text):\n",
    "        row = i // num_columns\n",
    "        col = key_order[i % num_columns]\n",
    "        grid[row][col] = char\n",
    "\n",
    "    # Read the columns in order and concatenate to get ciphertext\n",
    "    ciphertext = ''.join(''.join(row) for row in grid)\n",
    "    return ciphertext\n",
    "\n",
    "def decrypt(ciphertext, key):\n",
    "    key_order = sorted(range(len(key)), key=lambda k: key[k])\n",
    "    num_columns = len(key)\n",
    "    num_rows = len(ciphertext) // num_columns\n",
    "\n",
    "    # Create an empty grid\n",
    "    grid = [[' ' for _ in range(num_columns)] for _ in range(num_rows)]\n",
    "\n",
    "    # Fill in the grid with the ciphertext\n",
    "    for i, char in enumerate(ciphertext):\n",
    "        row = i // num_columns\n",
    "        col = key_order[i % num_columns]\n",
    "        grid[row][col] = char\n",
    "\n",
    "    # Read the rows in order and concatenate to get plaintext\n",
    "    plaintext = ''.join(''.join(row) for row in grid)\n",
    "    return plaintext\n",
    "\n",
    "# Example usage:\n",
    "key = \"KEY\"      #this is where the key value is defined\n",
    "plaintext = \"HELLO COLUMNAR CIPHER\"  #this is where the plaintext value is defined\n",
    "ciphertext = encrypt(plaintext, key)\n",
    "print(f\"Ciphertext: {ciphertext}\")\n",
    "\n",
    "decrypted_text = decrypt(ciphertext, key)\n",
    "print(f\"Decrypted Text: {decrypted_text}\")\n"
   ]
  },
  {
   "cell_type": "markdown",
   "id": "a9bda5cb",
   "metadata": {},
   "source": [
    "## This is Content from Chapter 4 "
   ]
  },
  {
   "cell_type": "code",
   "execution_count": null,
   "id": "07b90e84",
   "metadata": {},
   "outputs": [],
   "source": [
    "## Analyzing Prime Numbers"
   ]
  },
  {
   "cell_type": "markdown",
   "id": "707fa09b",
   "metadata": {},
   "source": [
    "### Analyzing Primality Test  (Script 4)"
   ]
  },
  {
   "cell_type": "code",
   "execution_count": 70,
   "id": "7702057e",
   "metadata": {},
   "outputs": [
    {
     "name": "stdout",
     "output_type": "stream",
     "text": [
      "True\n",
      "False\n"
     ]
    }
   ],
   "source": [
    "# A optimized school method based\n",
    "def isPrime(n):\n",
    "    # Corner cases\n",
    "    if (n <= 1):\n",
    "        return False\n",
    "    if (n <= 3):\n",
    "        return True\n",
    "\n",
    "    # This is checked so that we can skip\n",
    "    # middle five numbers in below loop\n",
    "    if (n % 2 == 0 or n % 3 == 0) :\n",
    "        return False\n",
    "\n",
    "    i = 5\n",
    "    while(i * i <= n):\n",
    "        if (n % i == 0 or n % (i + 2) == 0):\n",
    "            return False\n",
    "        i = i + 6\n",
    "    return True\n",
    "\n",
    "print(isPrime(11))\n",
    "print(isPrime(15))"
   ]
  },
  {
   "cell_type": "markdown",
   "id": "dd5c28a4",
   "metadata": {},
   "source": [
    "### Investigating Fermat's Little Theorem (Script 5)"
   ]
  },
  {
   "cell_type": "code",
   "execution_count": 67,
   "id": "ea70f192",
   "metadata": {},
   "outputs": [
    {
     "name": "stdout",
     "output_type": "stream",
     "text": [
      "Modular multiplicative inverse is  4\n"
     ]
    }
   ],
   "source": [
    "# modular inverse of a under modulo m using\n",
    "# Assumption: m is prime\n",
    "def gcd(a,b):\n",
    "    if (b == 0):\n",
    "        return a\n",
    "    else:\n",
    "        return gcd(b, a % b)\n",
    "    # To compute x^y under modulo m\n",
    "\n",
    "def power(x,y,m):\n",
    "    if (y == 0):\n",
    "        return 1\n",
    "    p = power(x, y // 2, m) % m\n",
    "    p = (p * p) % m\n",
    "    return p if(y % 2 == 0) else (x * p) % m\n",
    "\n",
    "# Function to find modular inverse of a under modulo m\n",
    "def modInverse(a,m):\n",
    "    if (gcd(a, m) != 1):\n",
    "        print(\"Inverse doesn't exist\")\n",
    "    else:\n",
    "        # If a and m are relatively prime, then\n",
    "        # # modulo inverse is a^(m-2) mode m\n",
    "        print(\"Modular multiplicative inverse is \", power(a, m - 2, m))\n",
    "\n",
    "a = 3\n",
    "m = 11\n",
    "modInverse(a, m)"
   ]
  },
  {
   "cell_type": "markdown",
   "id": "4fd82adf",
   "metadata": {},
   "source": [
    "### Investigating Large Prime Numbers (Script 6)"
   ]
  },
  {
   "cell_type": "code",
   "execution_count": 68,
   "id": "909560f7",
   "metadata": {},
   "outputs": [
    {
     "name": "stdout",
     "output_type": "stream",
     "text": [
      "Generate the value of n using two prime numbers p and q:\n",
      "\n",
      "\n",
      "111620718885079483487537795883228055438582851107734361264543959477074365893607287823084817008729207295274607730212328008532722758944894391058415140924570545610660771678728802882407002657472848407856833994552612664634950002265050266807130330540278337382928893269564375838302415174668293014063131154662619173403\n",
      "\n",
      "\n"
     ]
    }
   ],
   "source": [
    "# Generate two large prime numbers \n",
    "\n",
    "from random import randrange, getrandbits\n",
    "\n",
    "def is_prime(n, k=128):\n",
    "    \"\"\" Test if a number is prime\n",
    "        Args:\n",
    "            n -- int -- the number to test\n",
    "            k -- int -- the number of tests to do\n",
    "        return True if n is prime\n",
    "    \"\"\"\n",
    "    # Test if n is not even.\n",
    "    # But care, 2 is prime !\n",
    "    if n == 2 or n == 3:\n",
    "        return True\n",
    "    if n <= 1 or n % 2 == 0:\n",
    "        return False\n",
    "    # find r and s\n",
    "    s = 0\n",
    "    r = n - 1\n",
    "    while r & 1 == 0:\n",
    "        s += 1\n",
    "        r //= 2\n",
    "    # do k tests\n",
    "    for _ in range(k):\n",
    "        a = randrange(2, n - 1)\n",
    "        x = pow(a, r, n)\n",
    "        if x != 1 and x != n - 1:\n",
    "            j = 1\n",
    "            while j < s and x != n - 1:\n",
    "                x = pow(x, 2, n)\n",
    "                if x == 1:\n",
    "                    return False\n",
    "                j += 1\n",
    "            if x != n - 1:\n",
    "                return False\n",
    "    return True\n",
    "\n",
    "def isprime(x):\n",
    "    x = abs(int(x))\n",
    "    if x < 2:\n",
    "        return \"Less 2\", False\n",
    "    elif x == 2:\n",
    "        return True\n",
    "    elif x % 2 == 0:\n",
    "        return False    \n",
    "    else:\n",
    "        for n in range(3, int(x**0.5)+2, 2):\n",
    "            if x % n == 0:\n",
    "                return n, False\n",
    "        return True\n",
    "\n",
    "\n",
    "\n",
    "def generate_prime_candidate(length):\n",
    "    \"\"\" Generate an odd integer randomly\n",
    "        Args:\n",
    "            length -- int -- the length of the number to generate, in bits\n",
    "        return a integer\n",
    "    \"\"\"\n",
    "    # generate random bits\n",
    "    p = getrandbits(length)\n",
    "    # apply a mask to set MSB and LSB to 1\n",
    "    p |= (1 << length - 1) | 1\n",
    "    return p\n",
    "def generate_prime_number(length=1024):\n",
    "    \"\"\" Generate a prime\n",
    "        Args:\n",
    "            length -- int -- length of the prime to generate, in bits\n",
    "        return a prime\n",
    "    \"\"\"\n",
    "    p = 4\n",
    "    # keep generating while the primality test fail\n",
    "    while not is_prime(p, 128):\n",
    "        p = generate_prime_candidate(length)\n",
    "    return p\n",
    "\n",
    "print('Generate the value of n using two prime numbers p and q:')\n",
    "print('\\n')\n",
    "print(generate_prime_number())\n",
    "print('\\n')\n"
   ]
  }
 ],
 "metadata": {
  "kernelspec": {
   "display_name": "Python 3 (ipykernel)",
   "language": "python",
   "name": "python3"
  },
  "language_info": {
   "codemirror_mode": {
    "name": "ipython",
    "version": 3
   },
   "file_extension": ".py",
   "mimetype": "text/x-python",
   "name": "python",
   "nbconvert_exporter": "python",
   "pygments_lexer": "ipython3",
   "version": "3.11.4"
  }
 },
 "nbformat": 4,
 "nbformat_minor": 5
}
