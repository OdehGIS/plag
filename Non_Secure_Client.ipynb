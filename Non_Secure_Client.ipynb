{
 "cells": [
  {
   "cell_type": "code",
   "execution_count": null,
   "id": "d06af708",
   "metadata": {},
   "outputs": [
    {
     "name": "stdout",
     "output_type": "stream",
     "text": [
      "Enter message to send or type 'exit': antchr2155\n"
     ]
    }
   ],
   "source": [
    "# Save as client.py \n",
    "# Message Sender\n",
    "import os\n",
    "from socket import *\n",
    "host = \"127.0.0.1\" # set to IP address of target computer\n",
    "port = 13002\n",
    "addr = (host, port)\n",
    "UDPSock = socket(AF_INET, SOCK_DGRAM)\n",
    "while True:\n",
    "    data = input(\"Enter message to send or type 'exit': \").encode()\n",
    "    UDPSock.sendto(data, addr)\n",
    "    if data == \"exit\":\n",
    "        break\n",
    "UDPSock.close()\n",
    "os._exit(0)"
   ]
  },
  {
   "cell_type": "code",
   "execution_count": null,
   "id": "9df190b6",
   "metadata": {},
   "outputs": [],
   "source": []
  }
 ],
 "metadata": {
  "kernelspec": {
   "display_name": "Python 3 (ipykernel)",
   "language": "python",
   "name": "python3"
  },
  "language_info": {
   "codemirror_mode": {
    "name": "ipython",
    "version": 3
   },
   "file_extension": ".py",
   "mimetype": "text/x-python",
   "name": "python",
   "nbconvert_exporter": "python",
   "pygments_lexer": "ipython3",
   "version": "3.11.4"
  }
 },
 "nbformat": 4,
 "nbformat_minor": 5
}
