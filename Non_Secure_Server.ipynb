{
 "cells": [
  {
   "cell_type": "code",
   "execution_count": null,
   "id": "c53b2c61",
   "metadata": {},
   "outputs": [
    {
     "name": "stdout",
     "output_type": "stream",
     "text": [
      "Waiting to receive messages...\n",
      "Received message: antchr2155\n"
     ]
    }
   ],
   "source": [
    "# Save as server.py \n",
    "# Message Receiver\n",
    "import os\n",
    "from socket import *\n",
    "host = \"\"\n",
    "port = 13002\n",
    "buf = 1024\n",
    "addr = (host, port)\n",
    "UDPSock = socket(AF_INET, SOCK_DGRAM)\n",
    "UDPSock.bind(addr)\n",
    "print (\"Waiting to receive messages...\")\n",
    "while True:\n",
    "    (data, addr) = UDPSock.recvfrom(buf)\n",
    "    print (\"Received message: \" + str(data,'utf-8'))\n",
    "    if data == \"exit\":\n",
    "        break\n",
    "UDPSock.close()\n",
    "os._exit(0)\n"
   ]
  },
  {
   "cell_type": "code",
   "execution_count": null,
   "id": "271d1f6e",
   "metadata": {},
   "outputs": [],
   "source": []
  },
  {
   "cell_type": "code",
   "execution_count": null,
   "id": "921dd691",
   "metadata": {},
   "outputs": [],
   "source": []
  },
  {
   "cell_type": "code",
   "execution_count": null,
   "id": "3d804653",
   "metadata": {},
   "outputs": [],
   "source": []
  }
 ],
 "metadata": {
  "kernelspec": {
   "display_name": "Python 3 (ipykernel)",
   "language": "python",
   "name": "python3"
  },
  "language_info": {
   "codemirror_mode": {
    "name": "ipython",
    "version": 3
   },
   "file_extension": ".py",
   "mimetype": "text/x-python",
   "name": "python",
   "nbconvert_exporter": "python",
   "pygments_lexer": "ipython3",
   "version": "3.11.4"
  }
 },
 "nbformat": 4,
 "nbformat_minor": 5
}
