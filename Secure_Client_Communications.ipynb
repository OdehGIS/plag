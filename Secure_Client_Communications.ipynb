{
 "cells": [
  {
   "cell_type": "markdown",
   "id": "837a4a86",
   "metadata": {},
   "source": [
    "# Secure Server Communications Client"
   ]
  },
  {
   "cell_type": "code",
   "execution_count": null,
   "id": "e2a4c15d",
   "metadata": {},
   "outputs": [
    {
     "name": "stdout",
     "output_type": "stream",
     "text": [
      "Enter the secret key: Zy8v2bktJcuLUfq8cW7IUnvclJaivf2FJmA8KyIriiM=\n"
     ]
    }
   ],
   "source": [
    "# Save as client.py \n",
    "# Message Sender\n",
    "import os\n",
    "from socket import *\n",
    "from cryptography.fernet import Fernet\n",
    "\n",
    "\n",
    "host = \"127.0.0.1\" # set to IP address of target computer\n",
    "port = 8080\n",
    "addr = (host, port)\n",
    "UDPSock = socket(AF_INET, SOCK_DGRAM)\n",
    "key = input(\"Enter the secret key: \")\n",
    "f = Fernet(key)\n",
    "\n",
    "def encrypt(plaintext):\n",
    "    msg = f.encrypt(plaintext)\n",
    "    return msg\n",
    "\n",
    "while True:\n",
    "    data = str(input(\"Enter message to send or type 'exit': \")).encode()\n",
    "    ciphertext = encrypt(data)\n",
    "    UDPSock.sendto(ciphertext, addr)\n",
    "    if data == b'exit':\n",
    "        break\n",
    "    if data == b'newkey':\n",
    "        key = input(\"Enter the secret key: \")\n",
    "        f = Fernet(key)\n",
    "UDPSock.close()\n",
    "os._exit(0)\n"
   ]
  },
  {
   "cell_type": "code",
   "execution_count": null,
   "id": "d56f02c0",
   "metadata": {},
   "outputs": [],
   "source": []
  }
 ],
 "metadata": {
  "kernelspec": {
   "display_name": "Python 3 (ipykernel)",
   "language": "python",
   "name": "python3"
  },
  "language_info": {
   "codemirror_mode": {
    "name": "ipython",
    "version": 3
   },
   "file_extension": ".py",
   "mimetype": "text/x-python",
   "name": "python",
   "nbconvert_exporter": "python",
   "pygments_lexer": "ipython3",
   "version": "3.11.4"
  }
 },
 "nbformat": 4,
 "nbformat_minor": 5
}
