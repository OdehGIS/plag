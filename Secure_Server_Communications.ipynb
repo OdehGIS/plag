{
 "cells": [
  {
   "cell_type": "markdown",
   "id": "fb7affe4",
   "metadata": {},
   "source": [
    "# Secure Server Communications Server"
   ]
  },
  {
   "cell_type": "code",
   "execution_count": null,
   "id": "e5fa7997",
   "metadata": {},
   "outputs": [
    {
     "name": "stdout",
     "output_type": "stream",
     "text": [
      "The key is : Zy8v2bktJcuLUfq8cW7IUnvclJaivf2FJmA8KyIriiM=\n",
      "Waiting to receive messages...\n",
      "Received message: antchr2155\n"
     ]
    }
   ],
   "source": [
    "# Save as server.py \n",
    "# Message Receiver\n",
    "import hashlib\n",
    "import random\n",
    "import os\n",
    "from socket import *\n",
    "from cryptography.fernet import Fernet\n",
    "\n",
    "key = Fernet.generate_key()\n",
    "f = Fernet(key)\n",
    "\n",
    "print (\"The key is :\", str(key, 'utf-8'))\n",
    "    \n",
    "host = \"\"\n",
    "port = 8080\n",
    "buf = 1024\n",
    "addr = (host, port)\n",
    "UDPSock = socket(AF_INET, SOCK_DGRAM)\n",
    "UDPSock.bind(addr)\n",
    "print (\"Waiting to receive messages...\")\n",
    "\n",
    "def decrypt(ciphertext):\n",
    "    try:\n",
    "        msg = f.decrypt(ciphertext)\n",
    "    except:\n",
    "        msg = ciphertext\n",
    "    return msg\n",
    "\n",
    "while True:\n",
    "    (data, addr) = UDPSock.recvfrom(buf)\n",
    "    h = hashlib.md5(data)\n",
    "    \n",
    "    plaintext = decrypt(data)\n",
    "    msg = str(plaintext, 'utf-8')\n",
    "    print (\"Received message: \" + msg)\n",
    "    if msg == \"exit\":\n",
    "        break\n",
    "    if msg == 'newkey':\n",
    "        key = Fernet.generate_key()\n",
    "        f = Fernet(key)\n",
    "        print (\"The key is :\", str(key, 'utf-8'))\n",
    "\n",
    "UDPSock.close()\n",
    "os._exit(0)\n",
    "\n"
   ]
  },
  {
   "cell_type": "code",
   "execution_count": null,
   "id": "7d7a09bc",
   "metadata": {},
   "outputs": [],
   "source": []
  }
 ],
 "metadata": {
  "kernelspec": {
   "display_name": "Python 3 (ipykernel)",
   "language": "python",
   "name": "python3"
  },
  "language_info": {
   "codemirror_mode": {
    "name": "ipython",
    "version": 3
   },
   "file_extension": ".py",
   "mimetype": "text/x-python",
   "name": "python",
   "nbconvert_exporter": "python",
   "pygments_lexer": "ipython3",
   "version": "3.11.4"
  }
 },
 "nbformat": 4,
 "nbformat_minor": 5
}
