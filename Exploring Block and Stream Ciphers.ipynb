{
 "cells": [
  {
   "cell_type": "markdown",
   "id": "cf06b7cc",
   "metadata": {},
   "source": [
    " # Exploring Block and Stream Ciphers"
   ]
  },
  {
   "cell_type": "markdown",
   "id": "965d5499",
   "metadata": {},
   "source": [
    "## Hexdigest and Plaintext Conversion (Script 1)"
   ]
  },
  {
   "cell_type": "code",
   "execution_count": null,
   "id": "07d01ea5",
   "metadata": {},
   "outputs": [],
   "source": [
    "## Converting between Hexdigest and Plaintext"
   ]
  },
  {
   "cell_type": "code",
   "execution_count": 3,
   "id": "8c8804f5",
   "metadata": {},
   "outputs": [
    {
     "name": "stdout",
     "output_type": "stream",
     "text": [
      "b'apples are red'\n"
     ]
    }
   ],
   "source": [
    "import binascii\n",
    "password = b\"apples are red\"\n",
    "print(password)\n"
   ]
  },
  {
   "cell_type": "code",
   "execution_count": 4,
   "id": "2140d874",
   "metadata": {},
   "outputs": [
    {
     "name": "stdout",
     "output_type": "stream",
     "text": [
      "b'6170706c65732061726520726564'\n"
     ]
    }
   ],
   "source": [
    "passhex = binascii.hexlify(password)\n",
    "print(passhex)\n"
   ]
  },
  {
   "cell_type": "code",
   "execution_count": 5,
   "id": "b1c164cd",
   "metadata": {},
   "outputs": [
    {
     "data": {
      "text/plain": [
       "True"
      ]
     },
     "execution_count": 5,
     "metadata": {},
     "output_type": "execute_result"
    }
   ],
   "source": [
    "import webbrowser\n",
    "\n",
    "# generate an URL\n",
    "url = 'https://' + 'www.rapidtables.com/convert/number/hex-to-ascii.html'\n",
    "webbrowser.open(url)"
   ]
  },
  {
   "cell_type": "code",
   "execution_count": 7,
   "id": "64da96a8",
   "metadata": {},
   "outputs": [
    {
     "name": "stdout",
     "output_type": "stream",
     "text": [
      "14\n",
      "28\n"
     ]
    }
   ],
   "source": [
    "print(len(password))\n",
    "print(len(passhex))"
   ]
  },
  {
   "cell_type": "markdown",
   "id": "0a08cb6a",
   "metadata": {},
   "source": [
    "   ## Evaluating Stream Ciphers (Script 2)"
   ]
  },
  {
   "cell_type": "markdown",
   "id": "600d9e26",
   "metadata": {},
   "source": [
    "### Private Key Generation"
   ]
  },
  {
   "cell_type": "code",
   "execution_count": 10,
   "id": "3c26f5bc",
   "metadata": {},
   "outputs": [
    {
     "name": "stdout",
     "output_type": "stream",
     "text": [
      "b'45435049206973207468652062657374206465636973696f6e20492020686176652065766572206d616465'\n",
      "9695707139391210716089726549767810193627207229076491421872859650252921038823018752253246025664002783650\n",
      "45435049206973207468652062657374206465636973696f6e204920206861dee145c8e26bd8d6c257f9a2\n"
     ]
    }
   ],
   "source": [
    "import binascii\n",
    "def crand(seed):       \n",
    "    r=[]\n",
    "    r.append(seed)                \n",
    "    for i in range(30):\n",
    "        r.append((16807*r[-1]) % 2147483647)\n",
    "        if r[-1] < 0:\n",
    "            r[-1] += 2147483647\n",
    "    for i in range(31, 34):\n",
    "        r.append(r[len(r)-31])\n",
    "    for i in range(34, 344):\n",
    "        r.append((r[len(r)-31] + r[len(r)-3]) % 2**32)\n",
    "    while True:\n",
    "        next = r[len(r)-31]+r[len(r)-3] % 2**32\n",
    "        r.append(next)\n",
    "        yield (next >> 1 if next < 2**32 else (next % 2**32) >> 1)\n",
    "\n",
    "mygen = crand(2025)  # Change this value to the current year example 2025\n",
    "rands = [next(mygen) for i in range(4)]\n",
    "plaintext = b\"ECPI is the best decision I  have ever made\"\n",
    "hexplain = binascii.hexlify(plaintext)\n",
    "hexkey = \"\".join(map(lambda x: format(x, 'x')[-6:], rands))\n",
    "cipher_as_int = int(hexplain, 16) ^ int(hexkey, 16)\n",
    "cipher_as_hex = format(cipher_as_int, 'x')\n",
    "\n",
    "print (hexplain)\n",
    "print(cipher_as_int)\n",
    "print(cipher_as_hex)\n"
   ]
  },
  {
   "cell_type": "markdown",
   "id": "71359fb1",
   "metadata": {},
   "source": [
    "## Exploring ARC4 Ciphers (Script 3)"
   ]
  },
  {
   "cell_type": "code",
   "execution_count": 13,
   "id": "bde53bdb",
   "metadata": {},
   "outputs": [
    {
     "name": "stdout",
     "output_type": "stream",
     "text": [
      "The original text is: ECPI is the best decision you can make\n",
      "\n",
      "The ciphertext is: =mÌqfº`\u000f¥\u0000J4Ê)º¤úG»|1eýØÒH<èÕûû\n",
      "\n",
      "The plaintext is ECPI is the best decision you can make\n",
      "\n"
     ]
    }
   ],
   "source": [
    "def arc4crypt(data, key):\n",
    "    x = 0\n",
    "    box = range(256)\n",
    "    for i in range(256):\n",
    "        x = (x + box[i] + ord(key[i % len(key)])) % 256\n",
    "        # swap range objects\n",
    "        box = list(box)\n",
    "        box[i], box[x] = box[x], box[i]\n",
    "    x = 0\n",
    "    y = 0\n",
    "    out = []\n",
    "    for char in data:\n",
    "        x = (x + 1) % 256\n",
    "        y = (y + box[x]) % 256\n",
    "        box[x], box[y] = box[y], box[x]\n",
    "        out.append(chr(ord(char) ^ box[(box[x] + box[y]) % 256]))\n",
    "    \n",
    "    return ''.join(out)\n",
    "\n",
    "key = 'Anthony!!' # Change Key to your first name\n",
    "origtext = 'ECPI is the best decision you can make' # Change text to ECPI is the best decsion you can make\n",
    "ciphertext = arc4crypt (origtext, key)\n",
    "plaintext = arc4crypt (ciphertext, key)\n",
    "print('The original text is: {}'.format(origtext))\n",
    "print()\n",
    "print('The ciphertext is: {}'.format(ciphertext))\n",
    "print()\n",
    "print('The plaintext is {}'.format(plaintext))\n",
    "print()"
   ]
  },
  {
   "cell_type": "markdown",
   "id": "c0d77c1e-22be-4853-b263-46144f8092ab",
   "metadata": {},
   "source": [
    "## Exploring Block Ciphers DES (Script 4)"
   ]
  },
  {
   "cell_type": "code",
   "execution_count": 16,
   "id": "0831fa3e",
   "metadata": {},
   "outputs": [
    {
     "ename": "ValueError",
     "evalue": "Data must be aligned to block boundary in ECB mode",
     "output_type": "error",
     "traceback": [
      "\u001b[1;31m---------------------------------------------------------------------------\u001b[0m",
      "\u001b[1;31mValueError\u001b[0m                                Traceback (most recent call last)",
      "Cell \u001b[1;32mIn[16], line 7\u001b[0m\n\u001b[0;32m      5\u001b[0m origText \u001b[38;5;241m=\u001b[39m \u001b[38;5;124mb\u001b[39m\u001b[38;5;124m'\u001b[39m\u001b[38;5;124mThe US Navy has submarines in Kingsboy\u001b[39m\u001b[38;5;124m'\u001b[39m \u001b[38;5;66;03m#Change from Kingsbay to Kingsboy then remove an exclamation mark \u001b[39;00m\n\u001b[0;32m      6\u001b[0m des \u001b[38;5;241m=\u001b[39m DES\u001b[38;5;241m.\u001b[39mnew(key, DES\u001b[38;5;241m.\u001b[39mMODE_ECB)\n\u001b[1;32m----> 7\u001b[0m ciphertext \u001b[38;5;241m=\u001b[39m des\u001b[38;5;241m.\u001b[39mencrypt(origText)\n\u001b[0;32m      8\u001b[0m plaintext \u001b[38;5;241m=\u001b[39m des\u001b[38;5;241m.\u001b[39mdecrypt(ciphertext)\n\u001b[0;32m      9\u001b[0m \u001b[38;5;28mprint\u001b[39m(\u001b[38;5;124m'\u001b[39m\u001b[38;5;124mThe original text is \u001b[39m\u001b[38;5;132;01m{}\u001b[39;00m\u001b[38;5;124m'\u001b[39m\u001b[38;5;241m.\u001b[39mformat(origText))\n",
      "File \u001b[1;32m~\\AppData\\Local\\Programs\\Python\\Python311\\Lib\\site-packages\\Cryptodome\\Cipher\\_mode_ecb.py:141\u001b[0m, in \u001b[0;36mEcbMode.encrypt\u001b[1;34m(self, plaintext, output)\u001b[0m\n\u001b[0;32m    139\u001b[0m \u001b[38;5;28;01mif\u001b[39;00m result:\n\u001b[0;32m    140\u001b[0m     \u001b[38;5;28;01mif\u001b[39;00m result \u001b[38;5;241m==\u001b[39m \u001b[38;5;241m3\u001b[39m:\n\u001b[1;32m--> 141\u001b[0m         \u001b[38;5;28;01mraise\u001b[39;00m \u001b[38;5;167;01mValueError\u001b[39;00m(\u001b[38;5;124m\"\u001b[39m\u001b[38;5;124mData must be aligned to block boundary in ECB mode\u001b[39m\u001b[38;5;124m\"\u001b[39m)\n\u001b[0;32m    142\u001b[0m     \u001b[38;5;28;01mraise\u001b[39;00m \u001b[38;5;167;01mValueError\u001b[39;00m(\u001b[38;5;124m\"\u001b[39m\u001b[38;5;124mError \u001b[39m\u001b[38;5;132;01m%d\u001b[39;00m\u001b[38;5;124m while encrypting in ECB mode\u001b[39m\u001b[38;5;124m\"\u001b[39m \u001b[38;5;241m%\u001b[39m result)\n\u001b[0;32m    144\u001b[0m \u001b[38;5;28;01mif\u001b[39;00m output \u001b[38;5;129;01mis\u001b[39;00m \u001b[38;5;28;01mNone\u001b[39;00m:\n",
      "\u001b[1;31mValueError\u001b[0m: Data must be aligned to block boundary in ECB mode"
     ]
    }
   ],
   "source": [
    "import sys\n",
    "sys.path.append(r'C:\\Users\\cis101\\AppData\\Local\\Programs\\Python\\Python311\\Lib\\site-packages')\n",
    "from Cryptodome.Cipher import DES\n",
    "key = b'shhhhhh!'\n",
    "origText = b'The US Navy has submarines in Kingsboy' #Change from Kingsbay to Kingsboy then remove an exclamation mark \n",
    "des = DES.new(key, DES.MODE_ECB)\n",
    "ciphertext = des.encrypt(origText)\n",
    "plaintext = des.decrypt(ciphertext)\n",
    "print('The original text is {}'.format(origText))\n",
    "print('The ciphertext is {}'.format(ciphertext))\n",
    "print('The plaintext is {}'.format(plaintext))\n",
    "print()\n"
   ]
  },
  {
   "cell_type": "markdown",
   "id": "a51cf2bb-30a0-4c44-8d65-4acf5cb0b2f5",
   "metadata": {},
   "source": [
    "## Exploring Block Ciphers AES with Key (Script 5)"
   ]
  },
  {
   "cell_type": "code",
   "execution_count": 21,
   "id": "3dfacea6-baa6-4009-9d6c-713b5c9d9d9f",
   "metadata": {},
   "outputs": [
    {
     "name": "stdout",
     "output_type": "stream",
     "text": [
      "key [52, 97, 54, 101, 50, 51, 50, 55, 102, 48, 48, 57, 51, 56, 51, 102, 98, 102, 100, 99, 97, 48, 98, 99, 55, 56, 55, 53, 54, 51, 51, 101]\n",
      "\n",
      "iv: Åº©1\u0002j\u000f\n",
      "ùzóètý\n",
      "\n",
      "ciphertext: M1qqTturgaOoBWcLpfumRw==\n",
      "\n"
     ]
    }
   ],
   "source": [
    "import os\n",
    "import binascii\n",
    "key = binascii.hexlify(os.urandom(16))\n",
    "print ('key', [x for x in key] )\n",
    "from base64 import b64encode\n",
    "from Crypto.Cipher import AES\n",
    "from Crypto.Util.Padding import pad\n",
    "import binascii, os\n",
    "import random\n",
    "data = b\"secret\"\n",
    "key = binascii.hexlify(os.urandom(16))\n",
    "iv = ''.join(chr(random.randint(0, 0xFF)) for i in range(16))\n",
    "#print ('key: ', [x for x in key] )\n",
    "print()\n",
    "cipher = AES.new(key, AES.MODE_CBC)\n",
    "ct_bytes = cipher.encrypt(pad(data, AES.block_size))\n",
    "ct = b64encode(ct_bytes).decode('utf-8')\n",
    "print('iv: {}'.format(iv))\n",
    "print()\n",
    "print('ciphertext: {}'.format(ct))\n",
    "print()"
   ]
  },
  {
   "cell_type": "code",
   "execution_count": null,
   "id": "3a193000",
   "metadata": {},
   "outputs": [],
   "source": []
  },
  {
   "cell_type": "code",
   "execution_count": null,
   "id": "bb404910",
   "metadata": {},
   "outputs": [],
   "source": []
  },
  {
   "cell_type": "code",
   "execution_count": null,
   "id": "96d479c8",
   "metadata": {},
   "outputs": [],
   "source": []
  }
 ],
 "metadata": {
  "kernelspec": {
   "display_name": "Python 3 (ipykernel)",
   "language": "python",
   "name": "python3"
  },
  "language_info": {
   "codemirror_mode": {
    "name": "ipython",
    "version": 3
   },
   "file_extension": ".py",
   "mimetype": "text/x-python",
   "name": "python",
   "nbconvert_exporter": "python",
   "pygments_lexer": "ipython3",
   "version": "3.11.4"
  }
 },
 "nbformat": 4,
 "nbformat_minor": 5
}
