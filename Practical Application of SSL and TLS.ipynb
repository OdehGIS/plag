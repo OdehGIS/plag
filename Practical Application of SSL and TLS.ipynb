{
 "cells": [
  {
   "cell_type": "markdown",
   "id": "16f4b31e",
   "metadata": {},
   "source": [
    "# Practical Application of SSL and TLS"
   ]
  },
  {
   "cell_type": "markdown",
   "id": "9c2fa96a",
   "metadata": {},
   "source": [
    "## Evaluating ARC4 Secure Communication (Script 1)"
   ]
  },
  {
   "cell_type": "code",
   "execution_count": 2,
   "id": "29eae823",
   "metadata": {
    "scrolled": true
   },
   "outputs": [
    {
     "name": "stdout",
     "output_type": "stream",
     "text": [
      "The original text is: antchr2155\n",
      "\n",
      "The ciphertext is: PW!èÍ9A\u001e",
      "\n",
      "\n",
      "The plaintext is antchr2155\n",
      "\n"
     ]
    }
   ],
   "source": [
    "\n",
    "\"\"\"\n",
    "Implement the ARC4 stream cipher. - Chapter 5\n",
    "\"\"\"\n",
    "def arc4crypt(data, key):\n",
    "    x = 0\n",
    "    box = range(256)\n",
    "    for i in range(256):\n",
    "        x = (x + box[i] + ord(key[i % len(key)])) % 256\n",
    "        # swap range objects\n",
    "        box = list(box)\n",
    "        box[i], box[x] = box[x], box[i]\n",
    "    x = 0\n",
    "    y = 0\n",
    "    out = []\n",
    "    for char in data:\n",
    "        x = (x + 1) % 256\n",
    "        y = (y + box[x]) % 256\n",
    "        box[x], box[y] = box[y], box[x]\n",
    "        out.append(chr(ord(char) ^ box[(box[x] + box[y]) % 256]))\n",
    "    \n",
    "    return ''.join(out)\n",
    "\n",
    "key = 'SuperSecretKey!!'\n",
    "origtext = 'antchr2155'            \n",
    "ciphertext = arc4crypt (origtext, key)\n",
    "plaintext = arc4crypt (ciphertext, key)\n",
    "print('The original text is: {}'.format(origtext))\n",
    "print()\n",
    "print('The ciphertext is: {}'.format(ciphertext))\n",
    "print()\n",
    "print('The plaintext is {}'.format(plaintext))\n",
    "print()"
   ]
  },
  {
   "cell_type": "markdown",
   "id": "36272b34",
   "metadata": {},
   "source": [
    "## Reviewing El-Gamal Cryptosystem (Script 2)"
   ]
  },
  {
   "cell_type": "code",
   "execution_count": 4,
   "id": "b3855b68",
   "metadata": {
    "scrolled": true
   },
   "outputs": [
    {
     "name": "stdout",
     "output_type": "stream",
     "text": [
      "Original Message : antchr2155.\n",
      "\n",
      "g used :  3215710114659535566500312043986086350713847555723\n",
      "g^a used :  1164666841300347121221749217913322994548758707378\n",
      "g^k used :  801205233921077215531990852724693703510290284872\n",
      "g^ak used :  2912202690805635130010969485792069773383568736968\n",
      "\n",
      "The encrypted message : [282483661008146607611064040121830768018206167485896, 320342295988619864301206643437127675072192561066480, 337815512133453675081272460351880093712493973488288, 288308066389757877871085979093414907564973304959832, 302869079843786053521140826522375256431891148644672, 331991106751842404821250521380295954165726836014352, 145610134540281756500548474289603488669178436848400, 142697931849476121370537504803811418895794868111432, 154346742612698661890581382746979697989329143059304, 154346742612698661890581382746979697989329143059304, 133961323777059215980504596346435209575644161900528]\n",
      "\n",
      "Decrypted Message : antchr2155.\n",
      "\n"
     ]
    }
   ],
   "source": [
    "# Chapter 8 - ElGamal encryption \n",
    "\n",
    "import random \n",
    "from math import pow\n",
    "\n",
    "a = random.randint(2, 10) \n",
    "\n",
    "# Compute the GCD\n",
    "def gcd(a, b): \n",
    "\tif a < b: \n",
    "\t\treturn gcd(b, a) \n",
    "\telif a % b == 0: \n",
    "\t\treturn b; \n",
    "\telse: \n",
    "\t\treturn gcd(b, a % b) \n",
    "\n",
    "# Generating large random numbers \n",
    "def gen_key(q): \n",
    "\n",
    "\tkey = random.randint(pow(10, 20), q) \n",
    "\twhile gcd(q, key) != 1: \n",
    "\t\tkey = random.randint(pow(10, 20), q) \n",
    "\n",
    "\treturn key \n",
    "\n",
    "# Compute the power\n",
    "def power(a, b, c): \n",
    "\tx = 1\n",
    "\ty = a \n",
    "\n",
    "\twhile b > 0: \n",
    "\t\tif b % 2 == 0: \n",
    "\t\t\tx = (x * y) % c; \n",
    "\t\ty = (y * y) % c \n",
    "\t\tb = int(b / 2) \n",
    "\n",
    "\treturn x % c \n",
    "\n",
    "# Encrypt the message\n",
    "def encrypt(msg, q, h, g): \n",
    "\n",
    "\ten_msg = [] \n",
    "\n",
    "\tk = gen_key(q)# Private key for sender \n",
    "\ts = power(h, k, q) \n",
    "\tp = power(g, k, q) \n",
    "\t\n",
    "\tfor i in range(0, len(msg)): \n",
    "\t\ten_msg.append(msg[i]) \n",
    "\n",
    "\tprint(\"g^k used : \", p) \n",
    "\tprint(\"g^ak used : \", s) \n",
    "\tfor i in range(0, len(en_msg)): \n",
    "\t\ten_msg[i] = s * ord(en_msg[i]) \n",
    "\n",
    "\treturn en_msg, p \n",
    "\n",
    "# Decrypt the message\n",
    "def decrypt(en_msg, p, key, q): \n",
    "\n",
    "\tdr_msg = [] \n",
    "\th = power(p, key, q) \n",
    "\tfor i in range(0, len(en_msg)): \n",
    "\t\tdr_msg.append(chr(int(en_msg[i]/h))) \n",
    "\t\t\n",
    "\treturn dr_msg \n",
    "\n",
    "\n",
    "def main(): \n",
    "    \n",
    "    msg = 'antchr2155.' # This defines the msg value\n",
    "    print(\"Original Message :\", msg)\n",
    "    print()\n",
    "    \n",
    "    q = random.randint(pow(10, 20), pow(10, 50)) \n",
    "    g = random.randint(2, q) \n",
    "\n",
    "    key = gen_key(q)# Private key for receiver \n",
    "    h = power(g, key, q) \n",
    "    print(\"g used : \", g) \n",
    "    print(\"g^a used : \", h) \n",
    "\n",
    "    en_msg, p = encrypt(msg, q, h, g) \n",
    "    dr_msg = decrypt(en_msg, p, key, q) \n",
    "\n",
    "    dmsg = ''.join(dr_msg) \n",
    "    print ()\n",
    "    print (\"The encrypted message :\", en_msg)\n",
    "    print ()\n",
    "    print(\"Decrypted Message :\", dmsg); \n",
    "    print ()\n",
    "\n",
    "\n",
    "if __name__ == '__main__': \n",
    "\tmain() \n",
    "\n",
    "\n"
   ]
  },
  {
   "cell_type": "markdown",
   "id": "dac1b5c6",
   "metadata": {},
   "source": [
    "## Evaluating Website Security - SSL/TLS (Scripts 3 & 4)"
   ]
  },
  {
   "cell_type": "markdown",
   "id": "9f2c3137",
   "metadata": {},
   "source": [
    "### Website Unsecure (No SSL/TSL)"
   ]
  },
  {
   "cell_type": "code",
   "execution_count": 8,
   "id": "749231a0",
   "metadata": {
    "scrolled": true
   },
   "outputs": [
    {
     "name": "stdout",
     "output_type": "stream",
     "text": [
      "HTTP Connection Successful!\n",
      "Response:\n",
      "<!doctype html>\n",
      "<html>\n",
      "<head>\n",
      "    <title>Example Domain</title>\n",
      "\n",
      "    <meta charset=\"utf-8\" />\n",
      "    <meta http-equiv=\"Content-type\" content=\"text/html; charset=utf-8\" />\n",
      "    <meta name=\"viewport\" content=\"width=device-width, initial-scale=1\" />\n",
      "    <style type=\"text/css\">\n",
      "    body {\n",
      "        background-color: #f0f0f2;\n",
      "        margin: 0;\n",
      "        padding: 0;\n",
      "        font-family: -apple-system, system-ui, BlinkMacSystemFont, \"Segoe UI\", \"Open Sans\", \"Helvetica Neue\", Helvetica, Arial, sans-serif;\n",
      "        \n",
      "    }\n",
      "    div {\n",
      "        width: 600px;\n",
      "        margin: 5em auto;\n",
      "        padding: 2em;\n",
      "        background-color: #fdfdff;\n",
      "        border-radius: 0.5em;\n",
      "        box-shadow: 2px 3px 7px 2px rgba(0,0,0,0.02);\n",
      "    }\n",
      "    a:link, a:visited {\n",
      "        color: #38488f;\n",
      "        text-decoration: none;\n",
      "    }\n",
      "    @media (max-width: 700px) {\n",
      "        div {\n",
      "            margin: 0 auto;\n",
      "            width: auto;\n",
      "        }\n",
      "    }\n",
      "    </style>    \n",
      "</head>\n",
      "\n",
      "<body>\n",
      "<div>\n",
      "    <h1>Example Domain</h1>\n",
      "    <p>This domain is for use in illustrative examples in documents. You may use this\n",
      "    domain in literature without prior coordination or asking for permission.</p>\n",
      "    <p><a href=\"https://www.iana.org/domains/example\">More information...</a></p>\n",
      "</div>\n",
      "</body>\n",
      "</html>\n",
      "\n"
     ]
    }
   ],
   "source": [
    "import requests\n",
    "\n",
    "# Specify the URL of the website you want to connect to\n",
    "url = 'http://www.example.com'  # Replace with the website you want to use\n",
    "\n",
    "try:\n",
    "    # Send a GET request to the URL without SSL/TLS\n",
    "    response = requests.get(url)\n",
    "    \n",
    "    # Check if the request was successful\n",
    "    if response.status_code == 200:\n",
    "        print(\"HTTP Connection Successful!\")\n",
    "        print(\"Response:\")\n",
    "        print(response.text)\n",
    "    else:\n",
    "        print(f\"Request failed with status code: {response.status_code}\")\n",
    "except requests.exceptions.RequestException as e:\n",
    "    print(f\"An error occurred: {e}\")\n"
   ]
  },
  {
   "cell_type": "markdown",
   "id": "64a0791d",
   "metadata": {},
   "source": [
    "### Website Secure (Uses SSL/TLS)"
   ]
  },
  {
   "cell_type": "code",
   "execution_count": 11,
   "id": "6c613aa0",
   "metadata": {},
   "outputs": [
    {
     "name": "stdout",
     "output_type": "stream",
     "text": [
      "SSL/TLS Connection Successful!\n",
      "Response:\n",
      "<!doctype html>\n",
      "<html>\n",
      "<head>\n",
      "    <title>Example Domain</title>\n",
      "\n",
      "    <meta charset=\"utf-8\" />\n",
      "    <meta http-equiv=\"Content-type\" content=\"text/html; charset=utf-8\" />\n",
      "    <meta name=\"viewport\" content=\"width=device-width, initial-scale=1\" />\n",
      "    <style type=\"text/css\">\n",
      "    body {\n",
      "        background-color: #f0f0f2;\n",
      "        margin: 0;\n",
      "        padding: 0;\n",
      "        font-family: -apple-system, system-ui, BlinkMacSystemFont, \"Segoe UI\", \"Open Sans\", \"Helvetica Neue\", Helvetica, Arial, sans-serif;\n",
      "        \n",
      "    }\n",
      "    div {\n",
      "        width: 600px;\n",
      "        margin: 5em auto;\n",
      "        padding: 2em;\n",
      "        background-color: #fdfdff;\n",
      "        border-radius: 0.5em;\n",
      "        box-shadow: 2px 3px 7px 2px rgba(0,0,0,0.02);\n",
      "    }\n",
      "    a:link, a:visited {\n",
      "        color: #38488f;\n",
      "        text-decoration: none;\n",
      "    }\n",
      "    @media (max-width: 700px) {\n",
      "        div {\n",
      "            margin: 0 auto;\n",
      "            width: auto;\n",
      "        }\n",
      "    }\n",
      "    </style>    \n",
      "</head>\n",
      "\n",
      "<body>\n",
      "<div>\n",
      "    <h1>Example Domain</h1>\n",
      "    <p>This domain is for use in illustrative examples in documents. You may use this\n",
      "    domain in literature without prior coordination or asking for permission.</p>\n",
      "    <p><a href=\"https://www.iana.org/domains/example\">More information...</a></p>\n",
      "</div>\n",
      "</body>\n",
      "</html>\n",
      "\n"
     ]
    }
   ],
   "source": [
    "import requests\n",
    "\n",
    "# Specify the URL of the secure website you want to connect to\n",
    "url = 'https://www.example.com'  # Replace with the website you want to use\n",
    "\n",
    "try:\n",
    "    # Send a GET request to the URL with SSL/TLS\n",
    "    response = requests.get(url)\n",
    "    \n",
    "    # Check if the request was successful\n",
    "    if response.status_code == 200:\n",
    "        print(\"SSL/TLS Connection Successful!\")\n",
    "        print(\"Response:\")\n",
    "        print(response.text)\n",
    "    else:\n",
    "        print(f\"Request failed with status code: {response.status_code}\")\n",
    "except requests.exceptions.RequestException as e:\n",
    "    print(f\"An error occurred: {e}\")\n"
   ]
  },
  {
   "cell_type": "markdown",
   "id": "1740909b",
   "metadata": {},
   "source": [
    "### Identifies the IP Address of a Domain"
   ]
  },
  {
   "cell_type": "code",
   "execution_count": 12,
   "id": "bc9b9e81",
   "metadata": {
    "scrolled": true
   },
   "outputs": [
    {
     "name": "stdout",
     "output_type": "stream",
     "text": [
      "The IP address of example.com is 23.220.75.245\n"
     ]
    }
   ],
   "source": [
    "import socket\n",
    "\n",
    "# Input the .com domain you want to resolve to an IP address\n",
    "domain = \"example.com\"  # Replace with the domain you want to check\n",
    "\n",
    "try:\n",
    "    ip_address = socket.gethostbyname(domain)\n",
    "    print(f\"The IP address of {domain} is {ip_address}\")\n",
    "except socket.gaierror:\n",
    "    print(f\"Could not resolve the IP address for {domain}\")\n"
   ]
  },
  {
   "cell_type": "code",
   "execution_count": null,
   "id": "e9bcac39",
   "metadata": {},
   "outputs": [],
   "source": []
  }
 ],
 "metadata": {
  "kernelspec": {
   "display_name": "Python 3 (ipykernel)",
   "language": "python",
   "name": "python3"
  },
  "language_info": {
   "codemirror_mode": {
    "name": "ipython",
    "version": 3
   },
   "file_extension": ".py",
   "mimetype": "text/x-python",
   "name": "python",
   "nbconvert_exporter": "python",
   "pygments_lexer": "ipython3",
   "version": "3.11.4"
  }
 },
 "nbformat": 4,
 "nbformat_minor": 5
}
